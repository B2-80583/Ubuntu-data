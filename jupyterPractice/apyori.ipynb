{
 "cells": [
  {
   "cell_type": "code",
   "execution_count": 1,
   "id": "24bd1939-135c-4bf7-be54-cd8750db049b",
   "metadata": {},
   "outputs": [],
   "source": [
    "import numpy as np\n",
    "import pandas as pd\n",
    "import matplotlib.pyplot as plt\n",
    "import seaborn as sns"
   ]
  },
  {
   "cell_type": "code",
   "execution_count": 2,
   "id": "cce1c7e2-3010-4f1f-94cb-1a550fdef930",
   "metadata": {},
   "outputs": [],
   "source": [
    "dataset = [\n",
    "    [\"Bread\", \"Cheese\", \"Egg\", \"Juice\"],\n",
    "    [\"Bread\", \"Cheese\", \"Juice\"],\n",
    "    [\"Bread\", \"Milk\", \"Yogurt\"],\n",
    "    [\"Bread\", \"Juice\", \"Milk\"],\n",
    "    [\"Cheese\", \"Juice\", \"Milk\"]\n",
    "]"
   ]
  },
  {
   "cell_type": "code",
   "execution_count": 3,
   "id": "265e5e69-6726-4482-97fe-84335ac0e993",
   "metadata": {},
   "outputs": [],
   "source": [
    "from apyori import apriori"
   ]
  },
  {
   "cell_type": "code",
   "execution_count": 10,
   "id": "3e43db7f-6ec0-42b4-99aa-fa5c50b78019",
   "metadata": {},
   "outputs": [
    {
     "name": "stdout",
     "output_type": "stream",
     "text": [
      "items = frozenset({'Bread'}), support = 0.8, confidence = 0.8\n",
      "\n",
      "items = frozenset({'Cheese'}), support = 0.6, confidence = 0.6\n",
      "\n",
      "items = frozenset({'Juice'}), support = 0.8, confidence = 0.8\n",
      "\n",
      "items = frozenset({'Milk'}), support = 0.6, confidence = 0.6\n",
      "\n",
      "items = frozenset({'Juice', 'Bread'}), support = 0.6, confidence = 0.6\n",
      "\n",
      "items = frozenset({'Juice', 'Cheese'}), support = 0.6, confidence = 0.6\n",
      "\n"
     ]
    }
   ],
   "source": [
    "rules = list(apriori(dataset, min_support = 0.5))\n",
    "for rule in rules:\n",
    "    print(f\"items = {rule.items}, support = {rule.support}, confidence = {rule.ordered_statistics[0].confidence}\")\n",
    "    print()"
   ]
  },
  {
   "cell_type": "code",
   "execution_count": null,
   "id": "ebab3cfd-4ddb-4e31-883d-603408d9f721",
   "metadata": {},
   "outputs": [],
   "source": []
  }
 ],
 "metadata": {
  "kernelspec": {
   "display_name": "Python 3 (ipykernel)",
   "language": "python",
   "name": "python3"
  },
  "language_info": {
   "codemirror_mode": {
    "name": "ipython",
    "version": 3
   },
   "file_extension": ".py",
   "mimetype": "text/x-python",
   "name": "python",
   "nbconvert_exporter": "python",
   "pygments_lexer": "ipython3",
   "version": "3.11.4"
  }
 },
 "nbformat": 4,
 "nbformat_minor": 5
}
