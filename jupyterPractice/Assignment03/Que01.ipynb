{
 "cells": [
  {
   "cell_type": "markdown",
   "id": "2b6fbd47-85f4-4651-b19f-ca70c70c56f9",
   "metadata": {},
   "source": [
    "### Que01. Perform K-Means Clustering for the airlines data to obtain optimum number of clusters. \n",
    "### Draw the inferences from the clusters obtained.\n",
    "\n",
    "Data Description:\n",
    " \n",
    "The file East_std  contains information on passengers who belong to an airline’s frequent flier program. For each passenger the data include information on their mileage history and on different ways they accrued or spent miles in the last year. The goal is to try to identify clusters of passengers that have similar characteristics for the purpose of targeting different segments for different types of mileage offers."
   ]
  },
  {
   "cell_type": "code",
   "execution_count": 1,
   "id": "ce389a73-48bc-4934-91a6-1dd4a3c3e075",
   "metadata": {},
   "outputs": [],
   "source": [
    "import pandas as pd\n",
    "import numpy as np\n",
    "import matplotlib.pyplot as plt"
   ]
  },
  {
   "cell_type": "code",
   "execution_count": 3,
   "id": "9b531669-419a-489d-b127-2b255d564e03",
   "metadata": {},
   "outputs": [
    {
     "name": "stdout",
     "output_type": "stream",
     "text": [
      "      Unnamed: 0   Balance  Qual_miles  cc1_miles  cc2_miles  cc3_miles  \\\n",
      "0              0  0.016508         0.0       0.00        0.0        0.0   \n",
      "1              1  0.011288         0.0       0.00        0.0        0.0   \n",
      "2              2  0.024257         0.0       0.00        0.0        0.0   \n",
      "3              3  0.008667         0.0       0.00        0.0        0.0   \n",
      "4              4  0.057338         0.0       0.75        0.0        0.0   \n",
      "...          ...       ...         ...        ...        ...        ...   \n",
      "3994        3994  0.010837         0.0       0.00        0.0        0.0   \n",
      "3995        3995  0.037766         0.0       0.00        0.0        0.0   \n",
      "3996        3996  0.043169         0.0       0.50        0.0        0.0   \n",
      "3997        3997  0.032202         0.0       0.00        0.0        0.0   \n",
      "3998        3998  0.001769         0.0       0.00        0.0        0.0   \n",
      "\n",
      "      Bonus_miles  Bonus_trans  Flight_miles_12mo  Flight_trans_12  \\\n",
      "0        0.000660     0.011628           0.000000         0.000000   \n",
      "1        0.000815     0.023256           0.000000         0.000000   \n",
      "2        0.015636     0.046512           0.000000         0.000000   \n",
      "3        0.001896     0.011628           0.000000         0.000000   \n",
      "4        0.164211     0.302326           0.067398         0.075472   \n",
      "...           ...          ...                ...              ...   \n",
      "3994     0.032330     0.046512           0.006490         0.018868   \n",
      "3995     0.003720     0.058140           0.000000         0.000000   \n",
      "3996     0.096505     0.093023           0.000000         0.000000   \n",
      "3997     0.001896     0.011628           0.016225         0.018868   \n",
      "3998     0.000000     0.000000           0.000000         0.000000   \n",
      "\n",
      "      Days_since_enroll  Award?  \n",
      "0              0.843742     0.0  \n",
      "1              0.839884     0.0  \n",
      "2              0.847842     0.0  \n",
      "3              0.837955     0.0  \n",
      "4              0.835905     1.0  \n",
      "...                 ...     ...  \n",
      "3994           0.168917     1.0  \n",
      "3995           0.167953     1.0  \n",
      "3996           0.168797     1.0  \n",
      "3997           0.168676     0.0  \n",
      "3998           0.168314     0.0  \n",
      "\n",
      "[3999 rows x 12 columns]\n"
     ]
    }
   ],
   "source": [
    "df = pd.read_csv(\"./East_std.csv\")\n",
    "print(df)"
   ]
  },
  {
   "cell_type": "code",
   "execution_count": 4,
   "id": "fb975fbc-c8ae-410c-a4d3-c987e7e5e1c2",
   "metadata": {},
   "outputs": [],
   "source": [
    "from sklearn.cluster import KMeans"
   ]
  },
  {
   "cell_type": "code",
   "execution_count": 5,
   "id": "7322f5bb-ec65-4e75-9da6-ce622a075848",
   "metadata": {},
   "outputs": [
    {
     "name": "stderr",
     "output_type": "stream",
     "text": [
      "/usr/local/lib/python3.11/dist-packages/sklearn/cluster/_kmeans.py:1416: FutureWarning: The default value of `n_init` will change from 10 to 'auto' in 1.4. Set the value of `n_init` explicitly to suppress the warning\n",
      "  super()._check_params_vs_input(X, default_n_init=10)\n",
      "/usr/local/lib/python3.11/dist-packages/sklearn/cluster/_kmeans.py:1416: FutureWarning: The default value of `n_init` will change from 10 to 'auto' in 1.4. Set the value of `n_init` explicitly to suppress the warning\n",
      "  super()._check_params_vs_input(X, default_n_init=10)\n",
      "/usr/local/lib/python3.11/dist-packages/sklearn/cluster/_kmeans.py:1416: FutureWarning: The default value of `n_init` will change from 10 to 'auto' in 1.4. Set the value of `n_init` explicitly to suppress the warning\n",
      "  super()._check_params_vs_input(X, default_n_init=10)\n",
      "/usr/local/lib/python3.11/dist-packages/sklearn/cluster/_kmeans.py:1416: FutureWarning: The default value of `n_init` will change from 10 to 'auto' in 1.4. Set the value of `n_init` explicitly to suppress the warning\n",
      "  super()._check_params_vs_input(X, default_n_init=10)\n",
      "/usr/local/lib/python3.11/dist-packages/sklearn/cluster/_kmeans.py:1416: FutureWarning: The default value of `n_init` will change from 10 to 'auto' in 1.4. Set the value of `n_init` explicitly to suppress the warning\n",
      "  super()._check_params_vs_input(X, default_n_init=10)\n",
      "/usr/local/lib/python3.11/dist-packages/sklearn/cluster/_kmeans.py:1416: FutureWarning: The default value of `n_init` will change from 10 to 'auto' in 1.4. Set the value of `n_init` explicitly to suppress the warning\n",
      "  super()._check_params_vs_input(X, default_n_init=10)\n",
      "/usr/local/lib/python3.11/dist-packages/sklearn/cluster/_kmeans.py:1416: FutureWarning: The default value of `n_init` will change from 10 to 'auto' in 1.4. Set the value of `n_init` explicitly to suppress the warning\n",
      "  super()._check_params_vs_input(X, default_n_init=10)\n",
      "/usr/local/lib/python3.11/dist-packages/sklearn/cluster/_kmeans.py:1416: FutureWarning: The default value of `n_init` will change from 10 to 'auto' in 1.4. Set the value of `n_init` explicitly to suppress the warning\n",
      "  super()._check_params_vs_input(X, default_n_init=10)\n",
      "/usr/local/lib/python3.11/dist-packages/sklearn/cluster/_kmeans.py:1416: FutureWarning: The default value of `n_init` will change from 10 to 'auto' in 1.4. Set the value of `n_init` explicitly to suppress the warning\n",
      "  super()._check_params_vs_input(X, default_n_init=10)\n",
      "/usr/local/lib/python3.11/dist-packages/sklearn/cluster/_kmeans.py:1416: FutureWarning: The default value of `n_init` will change from 10 to 'auto' in 1.4. Set the value of `n_init` explicitly to suppress the warning\n",
      "  super()._check_params_vs_input(X, default_n_init=10)\n"
     ]
    },
    {
     "name": "stdout",
     "output_type": "stream",
     "text": [
      "[5329335830.793215, 1332338118.3723836, 592174157.7966259, 333122291.59077334, 213193109.53822368, 148109754.7257071, 108791684.8509456, 83317513.00082597, 65886935.5635953, 53319804.33028651]\n"
     ]
    }
   ],
   "source": [
    "wss = []\n",
    "for k in range(1,11):\n",
    "    kmeans_model = KMeans(n_clusters = k, random_state = 12345)\n",
    "    kmeans_model.fit(df)\n",
    "    wss.append(kmeans_model.inertia_)\n",
    "print(wss)"
   ]
  },
  {
   "cell_type": "code",
   "execution_count": 6,
   "id": "ffb74a23-29d5-4cb5-96b7-1aa8078f8035",
   "metadata": {},
   "outputs": [
    {
     "data": {
      "text/plain": [
       "Text(0, 0.5, 'Sum of Squares of within cluster variations')"
      ]
     },
     "execution_count": 6,
     "metadata": {},
     "output_type": "execute_result"
    },
    {
     "data": {
      "image/png": "[encoded data removed]",
      "text/plain": [
       "<Figure size 640x480 with 1 Axes>"
      ]
     },
     "metadata": {},
     "output_type": "display_data"
    }
   ],
   "source": [
    "x = np.arange(1, 11)\n",
    "\n",
    "plt.plot(x, wss)\n",
    "plt.title(\"finding cluster\")\n",
    "plt.xlabel(\"no of clusters\")\n",
    "plt.ylabel(\"Sum of Squares of within cluster variations\")"
   ]
  },
  {
   "cell_type": "code",
   "execution_count": null,
   "id": "9de9d0ae-2b6f-4d82-9e1a-593d932e9855",
   "metadata": {},
   "outputs": [],
   "source": []
  }
 ],
 "metadata": {
  "kernelspec": {
   "display_name": "Python 3 (ipykernel)",
   "language": "python",
   "name": "python3"
  },
  "language_info": {
   "codemirror_mode": {
    "name": "ipython",
    "version": 3
   },
   "file_extension": ".py",
   "mimetype": "text/x-python",
   "name": "python",
   "nbconvert_exporter": "python",
   "pygments_lexer": "ipython3",
   "version": "3.11.4"
  }
 },
 "nbformat": 4,
 "nbformat_minor": 5
}
