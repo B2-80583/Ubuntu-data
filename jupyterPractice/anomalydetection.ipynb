{
 "cells": [
  {
   "cell_type": "markdown",
   "id": "8f40b0ed-70b2-4865-842e-25fe8bb84834",
   "metadata": {},
   "source": [
    "# nomaly detection"
   ]
  },
  {
   "cell_type": "code",
   "execution_count": 1,
   "id": "2967b5ef-75f7-4cd5-9ab3-513410169384",
   "metadata": {},
   "outputs": [],
   "source": [
    "import numpy as np\n",
    "import pandas as pd\n",
    "import matplotlib.pyplot as plt\n",
    "import seaborn as sns\n"
   ]
  },
  {
   "cell_type": "code",
   "execution_count": 2,
   "id": "ca62060b-1aaf-4f3e-9acd-88238ca0767b",
   "metadata": {},
   "outputs": [
    {
     "data": {
      "text/html": [
       "<div>\n",
       "<style scoped>\n",
       "    .dataframe tbody tr th:only-of-type {\n",
       "        vertical-align: middle;\n",
       "    }\n",
       "\n",
       "    .dataframe tbody tr th {\n",
       "        vertical-align: top;\n",
       "    }\n",
       "\n",
       "    .dataframe thead th {\n",
       "        text-align: right;\n",
       "    }\n",
       "</style>\n",
       "<table border=\"1\" class=\"dataframe\">\n",
       "  <thead>\n",
       "    <tr style=\"text-align: right;\">\n",
       "      <th></th>\n",
       "      <th>age</th>\n",
       "      <th>physical_score</th>\n",
       "      <th>test_result</th>\n",
       "    </tr>\n",
       "  </thead>\n",
       "  <tbody>\n",
       "    <tr>\n",
       "      <th>0</th>\n",
       "      <td>33.0</td>\n",
       "      <td>40.7</td>\n",
       "      <td>1</td>\n",
       "    </tr>\n",
       "    <tr>\n",
       "      <th>1</th>\n",
       "      <td>50.0</td>\n",
       "      <td>37.2</td>\n",
       "      <td>1</td>\n",
       "    </tr>\n",
       "    <tr>\n",
       "      <th>2</th>\n",
       "      <td>52.0</td>\n",
       "      <td>24.7</td>\n",
       "      <td>0</td>\n",
       "    </tr>\n",
       "    <tr>\n",
       "      <th>3</th>\n",
       "      <td>56.0</td>\n",
       "      <td>31.0</td>\n",
       "      <td>0</td>\n",
       "    </tr>\n",
       "    <tr>\n",
       "      <th>4</th>\n",
       "      <td>35.0</td>\n",
       "      <td>42.9</td>\n",
       "      <td>1</td>\n",
       "    </tr>\n",
       "    <tr>\n",
       "      <th>...</th>\n",
       "      <td>...</td>\n",
       "      <td>...</td>\n",
       "      <td>...</td>\n",
       "    </tr>\n",
       "    <tr>\n",
       "      <th>4995</th>\n",
       "      <td>73.0</td>\n",
       "      <td>3.9</td>\n",
       "      <td>0</td>\n",
       "    </tr>\n",
       "    <tr>\n",
       "      <th>4996</th>\n",
       "      <td>57.0</td>\n",
       "      <td>33.9</td>\n",
       "      <td>1</td>\n",
       "    </tr>\n",
       "    <tr>\n",
       "      <th>4997</th>\n",
       "      <td>49.0</td>\n",
       "      <td>34.5</td>\n",
       "      <td>1</td>\n",
       "    </tr>\n",
       "    <tr>\n",
       "      <th>4998</th>\n",
       "      <td>38.0</td>\n",
       "      <td>46.4</td>\n",
       "      <td>1</td>\n",
       "    </tr>\n",
       "    <tr>\n",
       "      <th>4999</th>\n",
       "      <td>48.0</td>\n",
       "      <td>38.5</td>\n",
       "      <td>1</td>\n",
       "    </tr>\n",
       "  </tbody>\n",
       "</table>\n",
       "<p>5000 rows × 3 columns</p>\n",
       "</div>"
      ],
      "text/plain": [
       "       age  physical_score  test_result\n",
       "0     33.0            40.7            1\n",
       "1     50.0            37.2            1\n",
       "2     52.0            24.7            0\n",
       "3     56.0            31.0            0\n",
       "4     35.0            42.9            1\n",
       "...    ...             ...          ...\n",
       "4995  73.0             3.9            0\n",
       "4996  57.0            33.9            1\n",
       "4997  49.0            34.5            1\n",
       "4998  38.0            46.4            1\n",
       "4999  48.0            38.5            1\n",
       "\n",
       "[5000 rows x 3 columns]"
      ]
     },
     "execution_count": 2,
     "metadata": {},
     "output_type": "execute_result"
    }
   ],
   "source": [
    "df = pd.read_csv(\"hearing_test.csv\")\n",
    "df"
   ]
  },
  {
   "cell_type": "code",
   "execution_count": 3,
   "id": "f8a4e5de-3cad-4720-9562-bc78e98fb466",
   "metadata": {},
   "outputs": [
    {
     "name": "stdout",
     "output_type": "stream",
     "text": [
      "<class 'pandas.core.frame.DataFrame'>\n",
      "RangeIndex: 5000 entries, 0 to 4999\n",
      "Data columns (total 3 columns):\n",
      " #   Column          Non-Null Count  Dtype  \n",
      "---  ------          --------------  -----  \n",
      " 0   age             5000 non-null   float64\n",
      " 1   physical_score  5000 non-null   float64\n",
      " 2   test_result     5000 non-null   int64  \n",
      "dtypes: float64(2), int64(1)\n",
      "memory usage: 117.3 KB\n"
     ]
    }
   ],
   "source": [
    "df.info()"
   ]
  },
  {
   "cell_type": "code",
   "execution_count": 4,
   "id": "21cc2dc9-0e55-4f9f-b67c-e65b41fe990c",
   "metadata": {},
   "outputs": [
    {
     "data": {
      "text/html": [
       "<div>\n",
       "<style scoped>\n",
       "    .dataframe tbody tr th:only-of-type {\n",
       "        vertical-align: middle;\n",
       "    }\n",
       "\n",
       "    .dataframe tbody tr th {\n",
       "        vertical-align: top;\n",
       "    }\n",
       "\n",
       "    .dataframe thead th {\n",
       "        text-align: right;\n",
       "    }\n",
       "</style>\n",
       "<table border=\"1\" class=\"dataframe\">\n",
       "  <thead>\n",
       "    <tr style=\"text-align: right;\">\n",
       "      <th></th>\n",
       "      <th>age</th>\n",
       "      <th>physical_score</th>\n",
       "      <th>test_result</th>\n",
       "    </tr>\n",
       "  </thead>\n",
       "  <tbody>\n",
       "    <tr>\n",
       "      <th>count</th>\n",
       "      <td>5000.000000</td>\n",
       "      <td>5000.000000</td>\n",
       "      <td>5000.000000</td>\n",
       "    </tr>\n",
       "    <tr>\n",
       "      <th>mean</th>\n",
       "      <td>51.609000</td>\n",
       "      <td>32.760260</td>\n",
       "      <td>0.600000</td>\n",
       "    </tr>\n",
       "    <tr>\n",
       "      <th>std</th>\n",
       "      <td>11.287001</td>\n",
       "      <td>8.169802</td>\n",
       "      <td>0.489947</td>\n",
       "    </tr>\n",
       "    <tr>\n",
       "      <th>min</th>\n",
       "      <td>18.000000</td>\n",
       "      <td>-0.000000</td>\n",
       "      <td>0.000000</td>\n",
       "    </tr>\n",
       "    <tr>\n",
       "      <th>25%</th>\n",
       "      <td>43.000000</td>\n",
       "      <td>26.700000</td>\n",
       "      <td>0.000000</td>\n",
       "    </tr>\n",
       "    <tr>\n",
       "      <th>50%</th>\n",
       "      <td>51.000000</td>\n",
       "      <td>35.300000</td>\n",
       "      <td>1.000000</td>\n",
       "    </tr>\n",
       "    <tr>\n",
       "      <th>75%</th>\n",
       "      <td>60.000000</td>\n",
       "      <td>38.900000</td>\n",
       "      <td>1.000000</td>\n",
       "    </tr>\n",
       "    <tr>\n",
       "      <th>max</th>\n",
       "      <td>90.000000</td>\n",
       "      <td>50.000000</td>\n",
       "      <td>1.000000</td>\n",
       "    </tr>\n",
       "  </tbody>\n",
       "</table>\n",
       "</div>"
      ],
      "text/plain": [
       "               age  physical_score  test_result\n",
       "count  5000.000000     5000.000000  5000.000000\n",
       "mean     51.609000       32.760260     0.600000\n",
       "std      11.287001        8.169802     0.489947\n",
       "min      18.000000       -0.000000     0.000000\n",
       "25%      43.000000       26.700000     0.000000\n",
       "50%      51.000000       35.300000     1.000000\n",
       "75%      60.000000       38.900000     1.000000\n",
       "max      90.000000       50.000000     1.000000"
      ]
     },
     "execution_count": 4,
     "metadata": {},
     "output_type": "execute_result"
    }
   ],
   "source": [
    "df.describe()"
   ]
  },
  {
   "cell_type": "code",
   "execution_count": 5,
   "id": "0255897c-48c4-4d0e-8d90-387f97bf7734",
   "metadata": {},
   "outputs": [
    {
     "data": {
      "text/plain": [
       "1    3000\n",
       "0    2000\n",
       "Name: test_result, dtype: int64"
      ]
     },
     "execution_count": 5,
     "metadata": {},
     "output_type": "execute_result"
    }
   ],
   "source": [
    "df['test_result'].value_counts()"
   ]
  },
  {
   "cell_type": "markdown",
   "id": "1c954b7c-6fa0-4ddc-aec6-7bb2e2afe3d4",
   "metadata": {},
   "source": [
    "# Data Processing"
   ]
  },
  {
   "cell_type": "code",
   "execution_count": 17,
   "id": "9b6fd81e-0566-4ea6-a13e-28cfca06d1ed",
   "metadata": {},
   "outputs": [],
   "source": [
    "df_passed = df[df['test_result'] == 1]\n",
    "df_failed = df[df['test_result'] == 0]\n",
    "\n",
    "# collect only 2000 records randomly\n",
    "df_under = df_under.sample(2000)\n",
    "\n",
    "# build a new dataset using 2000 passed and 2000 faild records\n",
    "df_balanced = pd.concat([df_under, df_failed], axis = 0)"
   ]
  },
  {
   "cell_type": "code",
   "execution_count": 18,
   "id": "6fa18e24-fcf8-4de0-b3a9-fe5f0ae50b85",
   "metadata": {},
   "outputs": [
    {
     "data": {
      "text/plain": [
       "1    2000\n",
       "0    2000\n",
       "Name: test_result, dtype: int64"
      ]
     },
     "execution_count": 18,
     "metadata": {},
     "output_type": "execute_result"
    }
   ],
   "source": [
    "df_balanced['test_result'].value_counts()"
   ]
  },
  {
   "cell_type": "code",
   "execution_count": 20,
   "id": "b9672588-430c-4fb1-8577-54124fd10552",
   "metadata": {},
   "outputs": [],
   "source": [
    "x = df_balanced.drop('test_result', axis = 1)\n",
    "y = df_balanced['test_result']\n"
   ]
  },
  {
   "cell_type": "code",
   "execution_count": 21,
   "id": "45591d1d-8e03-4231-9d4d-da4994c03dca",
   "metadata": {},
   "outputs": [],
   "source": [
    "from sklearn.model_selection import train_test_split\n",
    "x_train, x_test, y_train, y_test = train_test_split(x, y, train_size = 0.7, random_state = 12345)"
   ]
  },
  {
   "cell_type": "markdown",
   "id": "01048e2c-8372-48f2-9998-26ac932ed870",
   "metadata": {},
   "source": [
    "#### model building"
   ]
  },
  {
   "cell_type": "code",
   "execution_count": 22,
   "id": "bc1461c0-dedc-45e6-87ff-94d9a032b68e",
   "metadata": {},
   "outputs": [
    {
     "data": {
      "text/html": [
       "<style>#sk-container-id-1 {color: black;}#sk-container-id-1 pre{padding: 0;}#sk-container-id-1 div.sk-toggleable {background-color: white;}#sk-container-id-1 label.sk-toggleable__label {cursor: pointer;display: block;width: 100%;margin-bottom: 0;padding: 0.3em;box-sizing: border-box;text-align: center;}#sk-container-id-1 label.sk-toggleable__label-arrow:before {content: \"▸\";float: left;margin-right: 0.25em;color: #696969;}#sk-container-id-1 label.sk-toggleable__label-arrow:hover:before {color: black;}#sk-container-id-1 div.sk-estimator:hover label.sk-toggleable__label-arrow:before {color: black;}#sk-container-id-1 div.sk-toggleable__content {max-height: 0;max-width: 0;overflow: hidden;text-align: left;background-color: #f0f8ff;}#sk-container-id-1 div.sk-toggleable__content pre {margin: 0.2em;color: black;border-radius: 0.25em;background-color: #f0f8ff;}#sk-container-id-1 input.sk-toggleable__control:checked~div.sk-toggleable__content {max-height: 200px;max-width: 100%;overflow: auto;}#sk-container-id-1 input.sk-toggleable__control:checked~label.sk-toggleable__label-arrow:before {content: \"▾\";}#sk-container-id-1 div.sk-estimator input.sk-toggleable__control:checked~label.sk-toggleable__label {background-color: #d4ebff;}#sk-container-id-1 div.sk-label input.sk-toggleable__control:checked~label.sk-toggleable__label {background-color: #d4ebff;}#sk-container-id-1 input.sk-hidden--visually {border: 0;clip: rect(1px 1px 1px 1px);clip: rect(1px, 1px, 1px, 1px);height: 1px;margin: -1px;overflow: hidden;padding: 0;position: absolute;width: 1px;}#sk-container-id-1 div.sk-estimator {font-family: monospace;background-color: #f0f8ff;border: 1px dotted black;border-radius: 0.25em;box-sizing: border-box;margin-bottom: 0.5em;}#sk-container-id-1 div.sk-estimator:hover {background-color: #d4ebff;}#sk-container-id-1 div.sk-parallel-item::after {content: \"\";width: 100%;border-bottom: 1px solid gray;flex-grow: 1;}#sk-container-id-1 div.sk-label:hover label.sk-toggleable__label {background-color: #d4ebff;}#sk-container-id-1 div.sk-serial::before {content: \"\";position: absolute;border-left: 1px solid gray;box-sizing: border-box;top: 0;bottom: 0;left: 50%;z-index: 0;}#sk-container-id-1 div.sk-serial {display: flex;flex-direction: column;align-items: center;background-color: white;padding-right: 0.2em;padding-left: 0.2em;position: relative;}#sk-container-id-1 div.sk-item {position: relative;z-index: 1;}#sk-container-id-1 div.sk-parallel {display: flex;align-items: stretch;justify-content: center;background-color: white;position: relative;}#sk-container-id-1 div.sk-item::before, #sk-container-id-1 div.sk-parallel-item::before {content: \"\";position: absolute;border-left: 1px solid gray;box-sizing: border-box;top: 0;bottom: 0;left: 50%;z-index: -1;}#sk-container-id-1 div.sk-parallel-item {display: flex;flex-direction: column;z-index: 1;position: relative;background-color: white;}#sk-container-id-1 div.sk-parallel-item:first-child::after {align-self: flex-end;width: 50%;}#sk-container-id-1 div.sk-parallel-item:last-child::after {align-self: flex-start;width: 50%;}#sk-container-id-1 div.sk-parallel-item:only-child::after {width: 0;}#sk-container-id-1 div.sk-dashed-wrapped {border: 1px dashed gray;margin: 0 0.4em 0.5em 0.4em;box-sizing: border-box;padding-bottom: 0.4em;background-color: white;}#sk-container-id-1 div.sk-label label {font-family: monospace;font-weight: bold;display: inline-block;line-height: 1.2em;}#sk-container-id-1 div.sk-label-container {text-align: center;}#sk-container-id-1 div.sk-container {/* jupyter's `normalize.less` sets `[hidden] { display: none; }` but bootstrap.min.css set `[hidden] { display: none !important; }` so we also need the `!important` here to be able to override the default hidden behavior on the sphinx rendered scikit-learn.org. See: https://github.com/scikit-learn/scikit-learn/issues/21755 */display: inline-block !important;position: relative;}#sk-container-id-1 div.sk-text-repr-fallback {display: none;}</style><div id=\"sk-container-id-1\" class=\"sk-top-container\"><div class=\"sk-text-repr-fallback\"><pre>SVC()</pre><b>In a Jupyter environment, please rerun this cell to show the HTML representation or trust the notebook. <br />On GitHub, the HTML representation is unable to render, please try loading this page with nbviewer.org.</b></div><div class=\"sk-container\" hidden><div class=\"sk-item\"><div class=\"sk-estimator sk-toggleable\"><input class=\"sk-toggleable__control sk-hidden--visually\" id=\"sk-estimator-id-1\" type=\"checkbox\" checked><label for=\"sk-estimator-id-1\" class=\"sk-toggleable__label sk-toggleable__label-arrow\">SVC</label><div class=\"sk-toggleable__content\"><pre>SVC()</pre></div></div></div></div></div>"
      ],
      "text/plain": [
       "SVC()"
      ]
     },
     "execution_count": 22,
     "metadata": {},
     "output_type": "execute_result"
    }
   ],
   "source": [
    "from sklearn.svm import SVC\n",
    "model = SVC()\n",
    "model.fit(x_train, y_train)"
   ]
  },
  {
   "cell_type": "code",
   "execution_count": 34,
   "id": "565f8abb-ab65-41ff-8714-b4fd93ea22c0",
   "metadata": {},
   "outputs": [],
   "source": [
    "y_true = y_test\n",
    "y_pred = model.predict(x_test)"
   ]
  },
  {
   "cell_type": "code",
   "execution_count": 35,
   "id": "808ff3f9-54bc-4801-b43e-37593685fed8",
   "metadata": {},
   "outputs": [
    {
     "data": {
      "text/plain": [
       "0.9183333333333333"
      ]
     },
     "execution_count": 35,
     "metadata": {},
     "output_type": "execute_result"
    }
   ],
   "source": [
    "from sklearn.metrics import accuracy_score\n",
    "\n",
    "accuracy = accuracy_score(y_true, y_pred)\n",
    "accuracy"
   ]
  },
  {
   "cell_type": "code",
   "execution_count": 25,
   "id": "a7b440ff-97e5-46d4-8c5e-c4cfebfc66a2",
   "metadata": {},
   "outputs": [],
   "source": [
    "## we did not do balancing beacause here the output is same for both balancing un-balance model (accuracy)"
   ]
  },
  {
   "cell_type": "markdown",
   "id": "fe624e50-56e3-4b9c-8009-9d3473fa48a9",
   "metadata": {},
   "source": [
    "### fine tuning the model"
   ]
  },
  {
   "cell_type": "code",
   "execution_count": 41,
   "id": "0cc08daa-4fcc-4f71-9571-251eb6a0e2d3",
   "metadata": {},
   "outputs": [
    {
     "name": "stderr",
     "output_type": "stream",
     "text": [
      "/usr/local/lib/python3.11/dist-packages/sklearn/model_selection/_validation.py:425: FitFailedWarning: \n",
      "90 fits failed out of a total of 360.\n",
      "The score on these train-test partitions for these parameters will be set to nan.\n",
      "If these failures are not expected, you can try to debug them by setting error_score='raise'.\n",
      "\n",
      "Below are more details about the failures:\n",
      "--------------------------------------------------------------------------------\n",
      "90 fits failed with the following error:\n",
      "Traceback (most recent call last):\n",
      "  File \"/usr/local/lib/python3.11/dist-packages/sklearn/model_selection/_validation.py\", line 729, in _fit_and_score\n",
      "    estimator.fit(X_train, y_train, **fit_params)\n",
      "  File \"/usr/local/lib/python3.11/dist-packages/sklearn/base.py\", line 1145, in wrapper\n",
      "    estimator._validate_params()\n",
      "  File \"/usr/local/lib/python3.11/dist-packages/sklearn/base.py\", line 638, in _validate_params\n",
      "    validate_parameter_constraints(\n",
      "  File \"/usr/local/lib/python3.11/dist-packages/sklearn/utils/_param_validation.py\", line 95, in validate_parameter_constraints\n",
      "    raise InvalidParameterError(\n",
      "sklearn.utils._param_validation.InvalidParameterError: The 'kernel' parameter of SVC must be a str among {'linear', 'precomputed', 'rbf', 'poly', 'sigmoid'} or a callable. Got 'kernel' instead.\n",
      "\n",
      "  warnings.warn(some_fits_failed_message, FitFailedWarning)\n",
      "/usr/local/lib/python3.11/dist-packages/sklearn/model_selection/_search.py:979: UserWarning: One or more of the test scores are non-finite: [       nan 0.91392857 0.9075     0.90857143        nan 0.91785714\n",
      " 0.9075     0.90642857        nan 0.91714286 0.90785714 0.90785714\n",
      "        nan 0.91571429 0.90785714 0.9075            nan 0.91821429\n",
      " 0.90821429 0.90785714        nan 0.91571429 0.90821429 0.90714286\n",
      "        nan 0.91821429 0.90857143 0.90785714        nan 0.91285714\n",
      " 0.90857143 0.90714286        nan 0.91964286 0.90857143 0.90821429\n",
      "        nan 0.90928571 0.90857143 0.90678571        nan 0.92\n",
      " 0.90857143 0.90821429        nan 0.90821429 0.90857143 0.90464286\n",
      "        nan 0.92       0.90785714 0.90785714        nan 0.90785714\n",
      " 0.90785714 0.90428571        nan 0.92214286 0.90785714 0.90785714\n",
      "        nan 0.90964286 0.90785714 0.90821429        nan 0.9225\n",
      " 0.90785714 0.90785714        nan 0.90785714 0.90785714 0.90785714]\n",
      "  warnings.warn(\n"
     ]
    },
    {
     "data": {
      "text/html": [
       "<style>#sk-container-id-2 {color: black;}#sk-container-id-2 pre{padding: 0;}#sk-container-id-2 div.sk-toggleable {background-color: white;}#sk-container-id-2 label.sk-toggleable__label {cursor: pointer;display: block;width: 100%;margin-bottom: 0;padding: 0.3em;box-sizing: border-box;text-align: center;}#sk-container-id-2 label.sk-toggleable__label-arrow:before {content: \"▸\";float: left;margin-right: 0.25em;color: #696969;}#sk-container-id-2 label.sk-toggleable__label-arrow:hover:before {color: black;}#sk-container-id-2 div.sk-estimator:hover label.sk-toggleable__label-arrow:before {color: black;}#sk-container-id-2 div.sk-toggleable__content {max-height: 0;max-width: 0;overflow: hidden;text-align: left;background-color: #f0f8ff;}#sk-container-id-2 div.sk-toggleable__content pre {margin: 0.2em;color: black;border-radius: 0.25em;background-color: #f0f8ff;}#sk-container-id-2 input.sk-toggleable__control:checked~div.sk-toggleable__content {max-height: 200px;max-width: 100%;overflow: auto;}#sk-container-id-2 input.sk-toggleable__control:checked~label.sk-toggleable__label-arrow:before {content: \"▾\";}#sk-container-id-2 div.sk-estimator input.sk-toggleable__control:checked~label.sk-toggleable__label {background-color: #d4ebff;}#sk-container-id-2 div.sk-label input.sk-toggleable__control:checked~label.sk-toggleable__label {background-color: #d4ebff;}#sk-container-id-2 input.sk-hidden--visually {border: 0;clip: rect(1px 1px 1px 1px);clip: rect(1px, 1px, 1px, 1px);height: 1px;margin: -1px;overflow: hidden;padding: 0;position: absolute;width: 1px;}#sk-container-id-2 div.sk-estimator {font-family: monospace;background-color: #f0f8ff;border: 1px dotted black;border-radius: 0.25em;box-sizing: border-box;margin-bottom: 0.5em;}#sk-container-id-2 div.sk-estimator:hover {background-color: #d4ebff;}#sk-container-id-2 div.sk-parallel-item::after {content: \"\";width: 100%;border-bottom: 1px solid gray;flex-grow: 1;}#sk-container-id-2 div.sk-label:hover label.sk-toggleable__label {background-color: #d4ebff;}#sk-container-id-2 div.sk-serial::before {content: \"\";position: absolute;border-left: 1px solid gray;box-sizing: border-box;top: 0;bottom: 0;left: 50%;z-index: 0;}#sk-container-id-2 div.sk-serial {display: flex;flex-direction: column;align-items: center;background-color: white;padding-right: 0.2em;padding-left: 0.2em;position: relative;}#sk-container-id-2 div.sk-item {position: relative;z-index: 1;}#sk-container-id-2 div.sk-parallel {display: flex;align-items: stretch;justify-content: center;background-color: white;position: relative;}#sk-container-id-2 div.sk-item::before, #sk-container-id-2 div.sk-parallel-item::before {content: \"\";position: absolute;border-left: 1px solid gray;box-sizing: border-box;top: 0;bottom: 0;left: 50%;z-index: -1;}#sk-container-id-2 div.sk-parallel-item {display: flex;flex-direction: column;z-index: 1;position: relative;background-color: white;}#sk-container-id-2 div.sk-parallel-item:first-child::after {align-self: flex-end;width: 50%;}#sk-container-id-2 div.sk-parallel-item:last-child::after {align-self: flex-start;width: 50%;}#sk-container-id-2 div.sk-parallel-item:only-child::after {width: 0;}#sk-container-id-2 div.sk-dashed-wrapped {border: 1px dashed gray;margin: 0 0.4em 0.5em 0.4em;box-sizing: border-box;padding-bottom: 0.4em;background-color: white;}#sk-container-id-2 div.sk-label label {font-family: monospace;font-weight: bold;display: inline-block;line-height: 1.2em;}#sk-container-id-2 div.sk-label-container {text-align: center;}#sk-container-id-2 div.sk-container {/* jupyter's `normalize.less` sets `[hidden] { display: none; }` but bootstrap.min.css set `[hidden] { display: none !important; }` so we also need the `!important` here to be able to override the default hidden behavior on the sphinx rendered scikit-learn.org. See: https://github.com/scikit-learn/scikit-learn/issues/21755 */display: inline-block !important;position: relative;}#sk-container-id-2 div.sk-text-repr-fallback {display: none;}</style><div id=\"sk-container-id-2\" class=\"sk-top-container\"><div class=\"sk-text-repr-fallback\"><pre>GridSearchCV(estimator=SVC(),\n",
       "             param_grid={&#x27;C&#x27;: range(1, 10), &#x27;gamma&#x27;: (&#x27;scale&#x27;, &#x27;auto&#x27;),\n",
       "                         &#x27;kernel&#x27;: (&#x27;kernel&#x27;, &#x27;rbf&#x27;, &#x27;linear&#x27;, &#x27;poly&#x27;)})</pre><b>In a Jupyter environment, please rerun this cell to show the HTML representation or trust the notebook. <br />On GitHub, the HTML representation is unable to render, please try loading this page with nbviewer.org.</b></div><div class=\"sk-container\" hidden><div class=\"sk-item sk-dashed-wrapped\"><div class=\"sk-label-container\"><div class=\"sk-label sk-toggleable\"><input class=\"sk-toggleable__control sk-hidden--visually\" id=\"sk-estimator-id-2\" type=\"checkbox\" ><label for=\"sk-estimator-id-2\" class=\"sk-toggleable__label sk-toggleable__label-arrow\">GridSearchCV</label><div class=\"sk-toggleable__content\"><pre>GridSearchCV(estimator=SVC(),\n",
       "             param_grid={&#x27;C&#x27;: range(1, 10), &#x27;gamma&#x27;: (&#x27;scale&#x27;, &#x27;auto&#x27;),\n",
       "                         &#x27;kernel&#x27;: (&#x27;kernel&#x27;, &#x27;rbf&#x27;, &#x27;linear&#x27;, &#x27;poly&#x27;)})</pre></div></div></div><div class=\"sk-parallel\"><div class=\"sk-parallel-item\"><div class=\"sk-item\"><div class=\"sk-label-container\"><div class=\"sk-label sk-toggleable\"><input class=\"sk-toggleable__control sk-hidden--visually\" id=\"sk-estimator-id-3\" type=\"checkbox\" ><label for=\"sk-estimator-id-3\" class=\"sk-toggleable__label sk-toggleable__label-arrow\">estimator: SVC</label><div class=\"sk-toggleable__content\"><pre>SVC()</pre></div></div></div><div class=\"sk-serial\"><div class=\"sk-item\"><div class=\"sk-estimator sk-toggleable\"><input class=\"sk-toggleable__control sk-hidden--visually\" id=\"sk-estimator-id-4\" type=\"checkbox\" ><label for=\"sk-estimator-id-4\" class=\"sk-toggleable__label sk-toggleable__label-arrow\">SVC</label><div class=\"sk-toggleable__content\"><pre>SVC()</pre></div></div></div></div></div></div></div></div></div></div>"
      ],
      "text/plain": [
       "GridSearchCV(estimator=SVC(),\n",
       "             param_grid={'C': range(1, 10), 'gamma': ('scale', 'auto'),\n",
       "                         'kernel': ('kernel', 'rbf', 'linear', 'poly')})"
      ]
     },
     "execution_count": 41,
     "metadata": {},
     "output_type": "execute_result"
    }
   ],
   "source": [
    "from sklearn.model_selection import GridSearchCV\n",
    "parameters = {\n",
    "    \"kernel\" : ('kernel', 'rbf', 'linear', 'poly'),\n",
    "     \"C\": range(1, 10),\n",
    "     \"gamma\": ('scale', 'auto')\n",
    "}\n",
    "gs = GridSearchCV(model, parameters)\n",
    "\n",
    "gs.fit(x_train, y_train)"
   ]
  },
  {
   "cell_type": "code",
   "execution_count": 44,
   "id": "d8664d25-28e9-4555-9ab6-076fa64f30ac",
   "metadata": {},
   "outputs": [
    {
     "data": {
      "text/plain": [
       "{'mean_fit_time': array([3.17573547e-04, 1.92942619e-02, 5.59985638e-02, 7.07121849e-02,\n",
       "        2.13956833e-04, 8.71441841e-02, 5.47475338e-02, 1.90403413e+01,\n",
       "        2.23636627e-04, 1.90442562e-02, 8.47303867e-02, 1.11282778e-01,\n",
       "        2.20394135e-04, 8.84992599e-02, 8.45746040e-02, 2.57596222e+01,\n",
       "        2.33364105e-04, 1.93681717e-02, 1.14519644e-01, 1.46362114e-01,\n",
       "        2.20108032e-04, 8.76426697e-02, 1.14903927e-01, 2.74641578e+01,\n",
       "        2.33554840e-04, 2.00610161e-02, 1.34826660e-01, 1.70734882e-01,\n",
       "        2.26306915e-04, 8.73392582e-02, 1.35096884e-01, 2.50011278e+01,\n",
       "        2.34794617e-04, 1.86714649e-02, 1.55121374e-01, 1.96433830e-01,\n",
       "        2.23445892e-04, 8.53183746e-02, 1.55112457e-01, 2.15729435e+01,\n",
       "        2.43425369e-04, 1.99251652e-02, 1.81807613e-01, 2.32259178e-01,\n",
       "        2.32505798e-04, 8.94433975e-02, 1.81406832e-01, 2.13783767e+01,\n",
       "        2.36940384e-04, 1.98071003e-02, 1.96859980e-01, 2.65623569e-01,\n",
       "        2.36415863e-04, 8.93848896e-02, 1.97025967e-01, 2.72994330e+01,\n",
       "        2.40659714e-04, 2.01018810e-02, 2.17692280e-01, 2.80855656e-01,\n",
       "        2.29597092e-04, 8.94917965e-02, 2.17945385e-01, 2.73711866e+01,\n",
       "        2.33650208e-04, 2.01965809e-02, 2.45415306e-01, 3.11238003e-01,\n",
       "        2.46238708e-04, 9.18417931e-02, 2.44742155e-01, 2.02384797e+01]),\n",
       " 'std_fit_time': array([9.74759425e-05, 4.32620508e-04, 3.75084960e-03, 6.91656306e-03,\n",
       "        1.51725658e-05, 4.02447808e-03, 3.40763905e-03, 6.67896349e+00,\n",
       "        3.46628146e-05, 3.35726432e-04, 2.33535085e-03, 1.12439475e-02,\n",
       "        1.79537897e-05, 1.18535437e-03, 2.49453416e-03, 7.85185905e+00,\n",
       "        3.67531036e-05, 6.54908314e-04, 9.38527968e-03, 9.53585673e-03,\n",
       "        3.63893928e-05, 2.00260580e-03, 9.62136320e-03, 1.06906213e+01,\n",
       "        5.02527548e-05, 1.25509826e-03, 7.70144069e-03, 1.55730068e-02,\n",
       "        3.27186047e-05, 2.29004490e-03, 7.90432409e-03, 4.11993165e+00,\n",
       "        4.36123304e-05, 7.56451775e-04, 1.73851398e-02, 1.55983610e-02,\n",
       "        3.25828102e-05, 3.56117973e-03, 1.73268083e-02, 4.51688066e+00,\n",
       "        4.40957080e-05, 6.09360173e-04, 1.41272308e-02, 2.39576415e-02,\n",
       "        2.36014645e-05, 4.28623952e-03, 1.39676741e-02, 3.28045561e+00,\n",
       "        3.81104175e-05, 1.09865640e-03, 1.56467941e-02, 1.97744323e-02,\n",
       "        2.27609715e-05, 2.61536160e-03, 1.57236028e-02, 1.74185991e+01,\n",
       "        4.92027097e-05, 8.99554008e-04, 1.25296574e-02, 1.03779303e-02,\n",
       "        2.14825592e-05, 3.14447183e-03, 1.25955548e-02, 1.22672943e+01,\n",
       "        3.86676422e-05, 1.01240709e-03, 3.06768412e-02, 4.00037993e-02,\n",
       "        4.49160355e-05, 3.24339373e-03, 3.06196102e-02, 5.39618359e+00]),\n",
       " 'mean_score_time': array([0.        , 0.00589314, 0.00322142, 0.00375857, 0.        ,\n",
       "        0.01499815, 0.00314498, 0.00326099, 0.        , 0.00597453,\n",
       "        0.00343957, 0.00395412, 0.        , 0.01475244, 0.0033505 ,\n",
       "        0.00328641, 0.        , 0.00588517, 0.00348701, 0.00400596,\n",
       "        0.        , 0.01448359, 0.00353403, 0.00333362, 0.        ,\n",
       "        0.00563283, 0.00341392, 0.00403876, 0.        , 0.01398449,\n",
       "        0.00338707, 0.0032198 , 0.        , 0.00544615, 0.00336857,\n",
       "        0.00395145, 0.        , 0.01350951, 0.00332985, 0.00328946,\n",
       "        0.        , 0.00579081, 0.00353932, 0.00422292, 0.        ,\n",
       "        0.01421132, 0.00351825, 0.00336113, 0.        , 0.0055737 ,\n",
       "        0.00353022, 0.00411096, 0.        , 0.01388345, 0.00346503,\n",
       "        0.00339541, 0.        , 0.00562763, 0.00347767, 0.00413499,\n",
       "        0.        , 0.01377401, 0.00354571, 0.00336757, 0.        ,\n",
       "        0.00569334, 0.00357666, 0.00425234, 0.        , 0.01362286,\n",
       "        0.00352616, 0.00340295]),\n",
       " 'std_score_time': array([0.00000000e+00, 3.04050906e-05, 1.96509424e-04, 8.48253768e-05,\n",
       "        0.00000000e+00, 2.98681082e-04, 9.28157129e-05, 1.12159824e-04,\n",
       "        0.00000000e+00, 1.44924062e-04, 1.20355588e-04, 3.68084313e-05,\n",
       "        0.00000000e+00, 1.36600605e-04, 1.12266243e-04, 5.43961067e-05,\n",
       "        0.00000000e+00, 9.36947281e-05, 1.26921172e-04, 4.65096903e-05,\n",
       "        0.00000000e+00, 1.76021038e-04, 1.42829915e-04, 6.79156404e-05,\n",
       "        0.00000000e+00, 7.40353840e-05, 1.19665133e-04, 7.40720751e-05,\n",
       "        0.00000000e+00, 2.66390634e-04, 1.30000764e-04, 6.05796041e-05,\n",
       "        0.00000000e+00, 9.94316273e-05, 1.52203881e-04, 6.02525969e-05,\n",
       "        0.00000000e+00, 2.74785951e-04, 6.43236536e-05, 1.59112565e-04,\n",
       "        0.00000000e+00, 1.14936214e-04, 1.99945559e-04, 9.26324634e-05,\n",
       "        0.00000000e+00, 2.75740404e-04, 9.82820957e-05, 3.47946085e-05,\n",
       "        0.00000000e+00, 9.27169851e-05, 1.39223663e-04, 1.11570684e-04,\n",
       "        0.00000000e+00, 2.62460961e-04, 1.13200237e-04, 1.15411005e-04,\n",
       "        0.00000000e+00, 8.41099388e-05, 3.77809127e-05, 6.55703282e-05,\n",
       "        0.00000000e+00, 2.40410807e-04, 9.69361273e-05, 7.95963345e-05,\n",
       "        0.00000000e+00, 1.34444285e-04, 1.19710308e-04, 1.14510297e-04,\n",
       "        0.00000000e+00, 2.01736305e-04, 5.75656018e-05, 6.54987520e-05]),\n",
       " 'param_C': masked_array(data=[1, 1, 1, 1, 1, 1, 1, 1, 2, 2, 2, 2, 2, 2, 2, 2, 3, 3,\n",
       "                    3, 3, 3, 3, 3, 3, 4, 4, 4, 4, 4, 4, 4, 4, 5, 5, 5, 5,\n",
       "                    5, 5, 5, 5, 6, 6, 6, 6, 6, 6, 6, 6, 7, 7, 7, 7, 7, 7,\n",
       "                    7, 7, 8, 8, 8, 8, 8, 8, 8, 8, 9, 9, 9, 9, 9, 9, 9, 9],\n",
       "              mask=[False, False, False, False, False, False, False, False,\n",
       "                    False, False, False, False, False, False, False, False,\n",
       "                    False, False, False, False, False, False, False, False,\n",
       "                    False, False, False, False, False, False, False, False,\n",
       "                    False, False, False, False, False, False, False, False,\n",
       "                    False, False, False, False, False, False, False, False,\n",
       "                    False, False, False, False, False, False, False, False,\n",
       "                    False, False, False, False, False, False, False, False,\n",
       "                    False, False, False, False, False, False, False, False],\n",
       "        fill_value='?',\n",
       "             dtype=object),\n",
       " 'param_gamma': masked_array(data=['scale', 'scale', 'scale', 'scale', 'auto', 'auto',\n",
       "                    'auto', 'auto', 'scale', 'scale', 'scale', 'scale',\n",
       "                    'auto', 'auto', 'auto', 'auto', 'scale', 'scale',\n",
       "                    'scale', 'scale', 'auto', 'auto', 'auto', 'auto',\n",
       "                    'scale', 'scale', 'scale', 'scale', 'auto', 'auto',\n",
       "                    'auto', 'auto', 'scale', 'scale', 'scale', 'scale',\n",
       "                    'auto', 'auto', 'auto', 'auto', 'scale', 'scale',\n",
       "                    'scale', 'scale', 'auto', 'auto', 'auto', 'auto',\n",
       "                    'scale', 'scale', 'scale', 'scale', 'auto', 'auto',\n",
       "                    'auto', 'auto', 'scale', 'scale', 'scale', 'scale',\n",
       "                    'auto', 'auto', 'auto', 'auto', 'scale', 'scale',\n",
       "                    'scale', 'scale', 'auto', 'auto', 'auto', 'auto'],\n",
       "              mask=[False, False, False, False, False, False, False, False,\n",
       "                    False, False, False, False, False, False, False, False,\n",
       "                    False, False, False, False, False, False, False, False,\n",
       "                    False, False, False, False, False, False, False, False,\n",
       "                    False, False, False, False, False, False, False, False,\n",
       "                    False, False, False, False, False, False, False, False,\n",
       "                    False, False, False, False, False, False, False, False,\n",
       "                    False, False, False, False, False, False, False, False,\n",
       "                    False, False, False, False, False, False, False, False],\n",
       "        fill_value='?',\n",
       "             dtype=object),\n",
       " 'param_kernel': masked_array(data=['kernel', 'rbf', 'linear', 'poly', 'kernel', 'rbf',\n",
       "                    'linear', 'poly', 'kernel', 'rbf', 'linear', 'poly',\n",
       "                    'kernel', 'rbf', 'linear', 'poly', 'kernel', 'rbf',\n",
       "                    'linear', 'poly', 'kernel', 'rbf', 'linear', 'poly',\n",
       "                    'kernel', 'rbf', 'linear', 'poly', 'kernel', 'rbf',\n",
       "                    'linear', 'poly', 'kernel', 'rbf', 'linear', 'poly',\n",
       "                    'kernel', 'rbf', 'linear', 'poly', 'kernel', 'rbf',\n",
       "                    'linear', 'poly', 'kernel', 'rbf', 'linear', 'poly',\n",
       "                    'kernel', 'rbf', 'linear', 'poly', 'kernel', 'rbf',\n",
       "                    'linear', 'poly', 'kernel', 'rbf', 'linear', 'poly',\n",
       "                    'kernel', 'rbf', 'linear', 'poly', 'kernel', 'rbf',\n",
       "                    'linear', 'poly', 'kernel', 'rbf', 'linear', 'poly'],\n",
       "              mask=[False, False, False, False, False, False, False, False,\n",
       "                    False, False, False, False, False, False, False, False,\n",
       "                    False, False, False, False, False, False, False, False,\n",
       "                    False, False, False, False, False, False, False, False,\n",
       "                    False, False, False, False, False, False, False, False,\n",
       "                    False, False, False, False, False, False, False, False,\n",
       "                    False, False, False, False, False, False, False, False,\n",
       "                    False, False, False, False, False, False, False, False,\n",
       "                    False, False, False, False, False, False, False, False],\n",
       "        fill_value='?',\n",
       "             dtype=object),\n",
       " 'params': [{'C': 1, 'gamma': 'scale', 'kernel': 'kernel'},\n",
       "  {'C': 1, 'gamma': 'scale', 'kernel': 'rbf'},\n",
       "  {'C': 1, 'gamma': 'scale', 'kernel': 'linear'},\n",
       "  {'C': 1, 'gamma': 'scale', 'kernel': 'poly'},\n",
       "  {'C': 1, 'gamma': 'auto', 'kernel': 'kernel'},\n",
       "  {'C': 1, 'gamma': 'auto', 'kernel': 'rbf'},\n",
       "  {'C': 1, 'gamma': 'auto', 'kernel': 'linear'},\n",
       "  {'C': 1, 'gamma': 'auto', 'kernel': 'poly'},\n",
       "  {'C': 2, 'gamma': 'scale', 'kernel': 'kernel'},\n",
       "  {'C': 2, 'gamma': 'scale', 'kernel': 'rbf'},\n",
       "  {'C': 2, 'gamma': 'scale', 'kernel': 'linear'},\n",
       "  {'C': 2, 'gamma': 'scale', 'kernel': 'poly'},\n",
       "  {'C': 2, 'gamma': 'auto', 'kernel': 'kernel'},\n",
       "  {'C': 2, 'gamma': 'auto', 'kernel': 'rbf'},\n",
       "  {'C': 2, 'gamma': 'auto', 'kernel': 'linear'},\n",
       "  {'C': 2, 'gamma': 'auto', 'kernel': 'poly'},\n",
       "  {'C': 3, 'gamma': 'scale', 'kernel': 'kernel'},\n",
       "  {'C': 3, 'gamma': 'scale', 'kernel': 'rbf'},\n",
       "  {'C': 3, 'gamma': 'scale', 'kernel': 'linear'},\n",
       "  {'C': 3, 'gamma': 'scale', 'kernel': 'poly'},\n",
       "  {'C': 3, 'gamma': 'auto', 'kernel': 'kernel'},\n",
       "  {'C': 3, 'gamma': 'auto', 'kernel': 'rbf'},\n",
       "  {'C': 3, 'gamma': 'auto', 'kernel': 'linear'},\n",
       "  {'C': 3, 'gamma': 'auto', 'kernel': 'poly'},\n",
       "  {'C': 4, 'gamma': 'scale', 'kernel': 'kernel'},\n",
       "  {'C': 4, 'gamma': 'scale', 'kernel': 'rbf'},\n",
       "  {'C': 4, 'gamma': 'scale', 'kernel': 'linear'},\n",
       "  {'C': 4, 'gamma': 'scale', 'kernel': 'poly'},\n",
       "  {'C': 4, 'gamma': 'auto', 'kernel': 'kernel'},\n",
       "  {'C': 4, 'gamma': 'auto', 'kernel': 'rbf'},\n",
       "  {'C': 4, 'gamma': 'auto', 'kernel': 'linear'},\n",
       "  {'C': 4, 'gamma': 'auto', 'kernel': 'poly'},\n",
       "  {'C': 5, 'gamma': 'scale', 'kernel': 'kernel'},\n",
       "  {'C': 5, 'gamma': 'scale', 'kernel': 'rbf'},\n",
       "  {'C': 5, 'gamma': 'scale', 'kernel': 'linear'},\n",
       "  {'C': 5, 'gamma': 'scale', 'kernel': 'poly'},\n",
       "  {'C': 5, 'gamma': 'auto', 'kernel': 'kernel'},\n",
       "  {'C': 5, 'gamma': 'auto', 'kernel': 'rbf'},\n",
       "  {'C': 5, 'gamma': 'auto', 'kernel': 'linear'},\n",
       "  {'C': 5, 'gamma': 'auto', 'kernel': 'poly'},\n",
       "  {'C': 6, 'gamma': 'scale', 'kernel': 'kernel'},\n",
       "  {'C': 6, 'gamma': 'scale', 'kernel': 'rbf'},\n",
       "  {'C': 6, 'gamma': 'scale', 'kernel': 'linear'},\n",
       "  {'C': 6, 'gamma': 'scale', 'kernel': 'poly'},\n",
       "  {'C': 6, 'gamma': 'auto', 'kernel': 'kernel'},\n",
       "  {'C': 6, 'gamma': 'auto', 'kernel': 'rbf'},\n",
       "  {'C': 6, 'gamma': 'auto', 'kernel': 'linear'},\n",
       "  {'C': 6, 'gamma': 'auto', 'kernel': 'poly'},\n",
       "  {'C': 7, 'gamma': 'scale', 'kernel': 'kernel'},\n",
       "  {'C': 7, 'gamma': 'scale', 'kernel': 'rbf'},\n",
       "  {'C': 7, 'gamma': 'scale', 'kernel': 'linear'},\n",
       "  {'C': 7, 'gamma': 'scale', 'kernel': 'poly'},\n",
       "  {'C': 7, 'gamma': 'auto', 'kernel': 'kernel'},\n",
       "  {'C': 7, 'gamma': 'auto', 'kernel': 'rbf'},\n",
       "  {'C': 7, 'gamma': 'auto', 'kernel': 'linear'},\n",
       "  {'C': 7, 'gamma': 'auto', 'kernel': 'poly'},\n",
       "  {'C': 8, 'gamma': 'scale', 'kernel': 'kernel'},\n",
       "  {'C': 8, 'gamma': 'scale', 'kernel': 'rbf'},\n",
       "  {'C': 8, 'gamma': 'scale', 'kernel': 'linear'},\n",
       "  {'C': 8, 'gamma': 'scale', 'kernel': 'poly'},\n",
       "  {'C': 8, 'gamma': 'auto', 'kernel': 'kernel'},\n",
       "  {'C': 8, 'gamma': 'auto', 'kernel': 'rbf'},\n",
       "  {'C': 8, 'gamma': 'auto', 'kernel': 'linear'},\n",
       "  {'C': 8, 'gamma': 'auto', 'kernel': 'poly'},\n",
       "  {'C': 9, 'gamma': 'scale', 'kernel': 'kernel'},\n",
       "  {'C': 9, 'gamma': 'scale', 'kernel': 'rbf'},\n",
       "  {'C': 9, 'gamma': 'scale', 'kernel': 'linear'},\n",
       "  {'C': 9, 'gamma': 'scale', 'kernel': 'poly'},\n",
       "  {'C': 9, 'gamma': 'auto', 'kernel': 'kernel'},\n",
       "  {'C': 9, 'gamma': 'auto', 'kernel': 'rbf'},\n",
       "  {'C': 9, 'gamma': 'auto', 'kernel': 'linear'},\n",
       "  {'C': 9, 'gamma': 'auto', 'kernel': 'poly'}],\n",
       " 'split0_test_score': array([       nan, 0.89821429, 0.89642857, 0.89642857,        nan,\n",
       "        0.91071429, 0.89642857, 0.88571429,        nan, 0.90357143,\n",
       "        0.89642857, 0.89464286,        nan, 0.90357143, 0.89642857,\n",
       "        0.89107143,        nan, 0.90535714, 0.89642857, 0.89464286,\n",
       "               nan, 0.90357143, 0.89642857, 0.8875    ,        nan,\n",
       "        0.90357143, 0.89642857, 0.89464286,        nan, 0.9       ,\n",
       "        0.89642857, 0.88392857,        nan, 0.90535714, 0.89642857,\n",
       "        0.89642857,        nan, 0.89464286, 0.89642857, 0.88571429,\n",
       "               nan, 0.90535714, 0.89642857, 0.89642857,        nan,\n",
       "        0.89642857, 0.89642857, 0.8875    ,        nan, 0.90535714,\n",
       "        0.89642857, 0.89464286,        nan, 0.89642857, 0.89642857,\n",
       "        0.88571429,        nan, 0.90892857, 0.89642857, 0.89464286,\n",
       "               nan, 0.89642857, 0.89642857, 0.8875    ,        nan,\n",
       "        0.90892857, 0.89642857, 0.89464286,        nan, 0.89464286,\n",
       "        0.89642857, 0.88392857]),\n",
       " 'split1_test_score': array([       nan, 0.92142857, 0.91071429, 0.90892857,        nan,\n",
       "        0.92678571, 0.91071429, 0.9125    ,        nan, 0.92678571,\n",
       "        0.91071429, 0.90892857,        nan, 0.93214286, 0.91071429,\n",
       "        0.90892857,        nan, 0.93035714, 0.9125    , 0.90892857,\n",
       "               nan, 0.93035714, 0.9125    , 0.90892857,        nan,\n",
       "        0.93035714, 0.91428571, 0.90892857,        nan, 0.93035714,\n",
       "        0.91428571, 0.91071429,        nan, 0.93392857, 0.91428571,\n",
       "        0.90892857,        nan, 0.92321429, 0.91428571, 0.90714286,\n",
       "               nan, 0.93214286, 0.91428571, 0.90892857,        nan,\n",
       "        0.91964286, 0.91428571, 0.90714286,        nan, 0.93214286,\n",
       "        0.9125    , 0.90892857,        nan, 0.91964286, 0.9125    ,\n",
       "        0.90892857,        nan, 0.93392857, 0.9125    , 0.90892857,\n",
       "               nan, 0.92142857, 0.9125    , 0.91071429,        nan,\n",
       "        0.93392857, 0.9125    , 0.90892857,        nan, 0.91964286,\n",
       "        0.9125    , 0.91071429]),\n",
       " 'split2_test_score': array([       nan, 0.91607143, 0.90357143, 0.90714286,        nan,\n",
       "        0.92321429, 0.90357143, 0.9       ,        nan, 0.91785714,\n",
       "        0.90357143, 0.90714286,        nan, 0.91785714, 0.90357143,\n",
       "        0.90535714,        nan, 0.91964286, 0.90357143, 0.90714286,\n",
       "               nan, 0.92142857, 0.90357143, 0.90714286,        nan,\n",
       "        0.92142857, 0.90357143, 0.90714286,        nan, 0.91071429,\n",
       "        0.90357143, 0.90535714,        nan, 0.92321429, 0.90357143,\n",
       "        0.90714286,        nan, 0.90357143, 0.90357143, 0.90714286,\n",
       "               nan, 0.92321429, 0.90357143, 0.90714286,        nan,\n",
       "        0.90178571, 0.90357143, 0.9       ,        nan, 0.92321429,\n",
       "        0.90357143, 0.90714286,        nan, 0.9       , 0.90357143,\n",
       "        0.89821429,        nan, 0.925     , 0.90357143, 0.90714286,\n",
       "               nan, 0.90178571, 0.90357143, 0.90714286,        nan,\n",
       "        0.925     , 0.90357143, 0.90714286,        nan, 0.9       ,\n",
       "        0.90357143, 0.90892857]),\n",
       " 'split3_test_score': array([       nan, 0.9125    , 0.91428571, 0.90892857,        nan,\n",
       "        0.91428571, 0.91428571, 0.91785714,        nan, 0.91071429,\n",
       "        0.91428571, 0.90714286,        nan, 0.9125    , 0.91428571,\n",
       "        0.91964286,        nan, 0.90892857, 0.91428571, 0.90714286,\n",
       "               nan, 0.9125    , 0.91428571, 0.90892857,        nan,\n",
       "        0.90714286, 0.91428571, 0.90714286,        nan, 0.9125    ,\n",
       "        0.91428571, 0.91428571,        nan, 0.90714286, 0.91428571,\n",
       "        0.90714286,        nan, 0.91071429, 0.91428571, 0.91607143,\n",
       "               nan, 0.90892857, 0.91428571, 0.90714286,        nan,\n",
       "        0.91071429, 0.91428571, 0.9125    ,        nan, 0.90892857,\n",
       "        0.91428571, 0.90714286,        nan, 0.91071429, 0.91428571,\n",
       "        0.9125    ,        nan, 0.9125    , 0.91428571, 0.90714286,\n",
       "               nan, 0.91428571, 0.91428571, 0.91428571,        nan,\n",
       "        0.91428571, 0.91428571, 0.90714286,        nan, 0.91428571,\n",
       "        0.91428571, 0.9125    ]),\n",
       " 'split4_test_score': array([       nan, 0.92142857, 0.9125    , 0.92142857,        nan,\n",
       "        0.91428571, 0.9125    , 0.91607143,        nan, 0.92678571,\n",
       "        0.91428571, 0.92142857,        nan, 0.9125    , 0.91428571,\n",
       "        0.9125    ,        nan, 0.92678571, 0.91428571, 0.92142857,\n",
       "               nan, 0.91071429, 0.91428571, 0.92321429,        nan,\n",
       "        0.92857143, 0.91428571, 0.92142857,        nan, 0.91071429,\n",
       "        0.91428571, 0.92142857,        nan, 0.92857143, 0.91428571,\n",
       "        0.92142857,        nan, 0.91428571, 0.91428571, 0.91785714,\n",
       "               nan, 0.93035714, 0.91428571, 0.92142857,        nan,\n",
       "        0.9125    , 0.91428571, 0.91607143,        nan, 0.93035714,\n",
       "        0.9125    , 0.92142857,        nan, 0.9125    , 0.9125    ,\n",
       "        0.91607143,        nan, 0.93035714, 0.9125    , 0.92142857,\n",
       "               nan, 0.91428571, 0.9125    , 0.92142857,        nan,\n",
       "        0.93035714, 0.9125    , 0.92142857,        nan, 0.91071429,\n",
       "        0.9125    , 0.92321429]),\n",
       " 'mean_test_score': array([       nan, 0.91392857, 0.9075    , 0.90857143,        nan,\n",
       "        0.91785714, 0.9075    , 0.90642857,        nan, 0.91714286,\n",
       "        0.90785714, 0.90785714,        nan, 0.91571429, 0.90785714,\n",
       "        0.9075    ,        nan, 0.91821429, 0.90821429, 0.90785714,\n",
       "               nan, 0.91571429, 0.90821429, 0.90714286,        nan,\n",
       "        0.91821429, 0.90857143, 0.90785714,        nan, 0.91285714,\n",
       "        0.90857143, 0.90714286,        nan, 0.91964286, 0.90857143,\n",
       "        0.90821429,        nan, 0.90928571, 0.90857143, 0.90678571,\n",
       "               nan, 0.92      , 0.90857143, 0.90821429,        nan,\n",
       "        0.90821429, 0.90857143, 0.90464286,        nan, 0.92      ,\n",
       "        0.90785714, 0.90785714,        nan, 0.90785714, 0.90785714,\n",
       "        0.90428571,        nan, 0.92214286, 0.90785714, 0.90785714,\n",
       "               nan, 0.90964286, 0.90785714, 0.90821429,        nan,\n",
       "        0.9225    , 0.90785714, 0.90785714,        nan, 0.90785714,\n",
       "        0.90785714, 0.90785714]),\n",
       " 'std_test_score': array([       nan, 0.00855653, 0.00662401, 0.0079379 ,        nan,\n",
       "        0.00608192, 0.00662401, 0.01209022,        nan, 0.00907733,\n",
       "        0.00692526, 0.0084967 ,        nan, 0.00940853, 0.00692526,\n",
       "        0.00947607,        nan, 0.00974156, 0.00710705, 0.0084967 ,\n",
       "               nan, 0.00927197, 0.00710705, 0.01140623,        nan,\n",
       "        0.01097307, 0.00735402, 0.0084967 ,        nan, 0.00980681,\n",
       "        0.00735402, 0.01272752,        nan, 0.011462  , 0.00735402,\n",
       "        0.00795395,        nan, 0.00967587, 0.00735402, 0.01142857,\n",
       "               nan, 0.01097307, 0.00735402, 0.00795395,        nan,\n",
       "        0.00819096, 0.00735402, 0.01013934,        nan, 0.01097307,\n",
       "        0.00683255, 0.0084967 ,        nan, 0.0084967 , 0.00683255,\n",
       "        0.01104259,        nan, 0.00981981, 0.00683255, 0.0084967 ,\n",
       "               nan, 0.00914732, 0.00683255, 0.01138384,        nan,\n",
       "        0.00948952, 0.00683255, 0.0084967 ,        nan, 0.00921678,\n",
       "        0.00683255, 0.01295597]),\n",
       " 'rank_test_score': array([55, 12, 46, 16, 55,  8, 46, 52, 55,  9, 29, 29, 55, 10, 29, 46, 55,\n",
       "         6, 23, 29, 55, 10, 23, 49, 55,  6, 16, 29, 55, 13, 16, 49, 55,  5,\n",
       "        16, 23, 55, 15, 16, 51, 55,  3, 16, 23, 55, 23, 16, 53, 55,  3, 39,\n",
       "        29, 55, 39, 39, 54, 55,  2, 39, 29, 55, 14, 39, 23, 55,  1, 39, 29,\n",
       "        55, 29, 39, 29], dtype=int32)}"
      ]
     },
     "execution_count": 44,
     "metadata": {},
     "output_type": "execute_result"
    }
   ],
   "source": [
    "gs.cv_results_"
   ]
  },
  {
   "cell_type": "markdown",
   "id": "22db7cc6-b90a-4a67-b1e3-c1cbbc8f9a75",
   "metadata": {},
   "source": [
    "# cross validation"
   ]
  },
  {
   "cell_type": "code",
   "execution_count": 32,
   "id": "50b76758-9e0d-4e21-8bde-ad25b6f52bc5",
   "metadata": {},
   "outputs": [
    {
     "data": {
      "text/plain": [
       "array([0.90578158, 0.91220557, 0.9143469 , 0.91006424, 0.91845494,\n",
       "       0.92274678])"
      ]
     },
     "execution_count": 32,
     "metadata": {},
     "output_type": "execute_result"
    }
   ],
   "source": [
    "from sklearn.model_selection import cross_val_score\n",
    "scores = cross_val_score(model, x_train, y_train, cv = 6)\n",
    "scores"
   ]
  },
  {
   "cell_type": "code",
   "execution_count": 36,
   "id": "b7ae6843-c119-4575-9bc3-470f967407aa",
   "metadata": {},
   "outputs": [],
   "source": [
    "# accuracy and cross validation are should same or near to each other it indicate validation is currect"
   ]
  },
  {
   "cell_type": "code",
   "execution_count": 45,
   "id": "73c97da9-a250-4348-a95c-8a862e29e54b",
   "metadata": {},
   "outputs": [],
   "source": [
    "# to fine tune the model and to find optimal values\n",
    "# gridsearchcv do the permutation combination of data it is more accurate\n",
    "# random searchcv also do permutation combination but with some random values it pick from data and do the operation \n"
   ]
  },
  {
   "cell_type": "code",
   "execution_count": null,
   "id": "63e3b911-3d4f-448f-b1f4-3856e3f81561",
   "metadata": {},
   "outputs": [],
   "source": []
  }
 ],
 "metadata": {
  "kernelspec": {
   "display_name": "Python 3 (ipykernel)",
   "language": "python",
   "name": "python3"
  },
  "language_info": {
   "codemirror_mode": {
    "name": "ipython",
    "version": 3
   },
   "file_extension": ".py",
   "mimetype": "text/x-python",
   "name": "python",
   "nbconvert_exporter": "python",
   "pygments_lexer": "ipython3",
   "version": "3.11.4"
  }
 },
 "nbformat": 4,
 "nbformat_minor": 5
}
