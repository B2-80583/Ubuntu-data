{
 "cells": [
  {
   "cell_type": "markdown",
   "id": "d1f294b6-08f3-42b8-974d-c8c73b26b5f2",
   "metadata": {},
   "source": [
    "# Association rules mining"
   ]
  },
  {
   "cell_type": "markdown",
   "id": "9d231370-0e46-4b68-a2f1-e617780bc6f4",
   "metadata": {},
   "source": [
    "# Apriori"
   ]
  },
  {
   "cell_type": "code",
   "execution_count": 1,
   "id": "a6a2c35b-ec10-4dae-96d0-5f1e2bedb889",
   "metadata": {},
   "outputs": [],
   "source": [
    "import numpy as np\n",
    "import pandas as pd\n",
    "import matplotlib.pyplot as plt\n",
    "import seaborn as sns"
   ]
  },
  {
   "cell_type": "markdown",
   "id": "19082c2b-efe0-4247-91ad-d2154d981d69",
   "metadata": {},
   "source": [
    "### get the data from data source"
   ]
  },
  {
   "cell_type": "code",
   "execution_count": 2,
   "id": "71712bae-766b-48f4-9837-4c2d35d06979",
   "metadata": {},
   "outputs": [],
   "source": [
    "dataset = [\n",
    "    [\"Bread\", \"Cheese\", \"Egg\", \"Juice\"],\n",
    "    [\"Bread\", \"Cheese\", \"Juice\"],\n",
    "    [\"Bread\", \"Milk\", \"Yogurt\"],\n",
    "    [\"Bread\", \"Juice\", \"Milk\"],\n",
    "    [\"Cheese\", \"Juice\", \"Milk\"]\n",
    "]\n"
   ]
  },
  {
   "cell_type": "markdown",
   "id": "1807a203-9fac-4746-9ee2-ab019fdc7cb2",
   "metadata": {},
   "source": [
    "# using mlxtend package"
   ]
  },
  {
   "cell_type": "code",
   "execution_count": 3,
   "id": "87a4e873-6e27-4c47-96c5-1e98932f4c34",
   "metadata": {},
   "outputs": [
    {
     "data": {
      "text/html": [
       "<div>\n",
       "<style scoped>\n",
       "    .dataframe tbody tr th:only-of-type {\n",
       "        vertical-align: middle;\n",
       "    }\n",
       "\n",
       "    .dataframe tbody tr th {\n",
       "        vertical-align: top;\n",
       "    }\n",
       "\n",
       "    .dataframe thead th {\n",
       "        text-align: right;\n",
       "    }\n",
       "</style>\n",
       "<table border=\"1\" class=\"dataframe\">\n",
       "  <thead>\n",
       "    <tr style=\"text-align: right;\">\n",
       "      <th></th>\n",
       "      <th>0</th>\n",
       "      <th>1</th>\n",
       "      <th>2</th>\n",
       "      <th>3</th>\n",
       "    </tr>\n",
       "  </thead>\n",
       "  <tbody>\n",
       "    <tr>\n",
       "      <th>0</th>\n",
       "      <td>Bread</td>\n",
       "      <td>Cheese</td>\n",
       "      <td>Egg</td>\n",
       "      <td>Juice</td>\n",
       "    </tr>\n",
       "    <tr>\n",
       "      <th>1</th>\n",
       "      <td>Bread</td>\n",
       "      <td>Cheese</td>\n",
       "      <td>Juice</td>\n",
       "      <td>None</td>\n",
       "    </tr>\n",
       "    <tr>\n",
       "      <th>2</th>\n",
       "      <td>Bread</td>\n",
       "      <td>Milk</td>\n",
       "      <td>Yogurt</td>\n",
       "      <td>None</td>\n",
       "    </tr>\n",
       "    <tr>\n",
       "      <th>3</th>\n",
       "      <td>Bread</td>\n",
       "      <td>Juice</td>\n",
       "      <td>Milk</td>\n",
       "      <td>None</td>\n",
       "    </tr>\n",
       "    <tr>\n",
       "      <th>4</th>\n",
       "      <td>Cheese</td>\n",
       "      <td>Juice</td>\n",
       "      <td>Milk</td>\n",
       "      <td>None</td>\n",
       "    </tr>\n",
       "  </tbody>\n",
       "</table>\n",
       "</div>"
      ],
      "text/plain": [
       "        0       1       2      3\n",
       "0   Bread  Cheese     Egg  Juice\n",
       "1   Bread  Cheese   Juice   None\n",
       "2   Bread    Milk  Yogurt   None\n",
       "3   Bread   Juice    Milk   None\n",
       "4  Cheese   Juice    Milk   None"
      ]
     },
     "execution_count": 3,
     "metadata": {},
     "output_type": "execute_result"
    }
   ],
   "source": [
    "df = pd.DataFrame(dataset)\n",
    "df"
   ]
  },
  {
   "cell_type": "markdown",
   "id": "814b1ad0-3dd0-4786-9130-4d94b8170e2c",
   "metadata": {},
   "source": [
    "### data is not symmetric hence it gives none value \n",
    "- hence we use anather method"
   ]
  },
  {
   "cell_type": "code",
   "execution_count": null,
   "id": "b91433a7-253a-4c88-9979-f838b23cd3f0",
   "metadata": {},
   "outputs": [],
   "source": [
    "from mlxtend.frequent_patterns import apriori\n"
   ]
  }
 ],
 "metadata": {
  "kernelspec": {
   "display_name": "Python 3 (ipykernel)",
   "language": "python",
   "name": "python3"
  },
  "language_info": {
   "codemirror_mode": {
    "name": "ipython",
    "version": 3
   },
   "file_extension": ".py",
   "mimetype": "text/x-python",
   "name": "python",
   "nbconvert_exporter": "python",
   "pygments_lexer": "ipython3",
   "version": "3.11.4"
  }
 },
 "nbformat": 4,
 "nbformat_minor": 5
}
